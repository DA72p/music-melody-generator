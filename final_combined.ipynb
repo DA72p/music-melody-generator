{
 "cells": [
  {
   "cell_type": "code",
   "execution_count": 1,
   "metadata": {
    "vscode": {
     "languageId": "python"
    }
   },
   "outputs": [],
   "source": [
    "#%%\n",
    "\n",
    "from music21 import *\n",
    "import copy, random, math\n",
    "\n",
    "def beat_strength(offset: float) -> int:\n",
    "    # Returns 2 if on 1, 3\n",
    "    # 1 if on 2, 4\n",
    "    # 0 if on +\n",
    "    beat = math.floor(offset)\n",
    "    decimal = offset - beat\n",
    "    if decimal == 0:\n",
    "        return 2 if beat in [0, 2] else 1\n",
    "    else:\n",
    "        return 0\n",
    "    \n",
    "def next_chord_tone(p: pitch.Pitch, ch: chord.Chord) -> pitch.Pitch:\n",
    "    next_map = {\n",
    "        ch.root().pitchClass: ch.third,\n",
    "        ch.third.pitchClass: ch.fifth,\n",
    "        ch.fifth.pitchClass: ch.root(),\n",
    "    }\n",
    "    return next_map[p.pitchClass].transposeAboveTarget(p)\n",
    "\n",
    "def prev_chord_tone(p: pitch.Pitch, ch: chord.Chord) -> pitch.Pitch:\n",
    "    prev_map = {\n",
    "        ch.root().pitchClass: ch.fifth,\n",
    "        ch.third.pitchClass: ch.root(),\n",
    "        ch.fifth.pitchClass: ch.third,\n",
    "    }\n",
    "    return prev_map[p.pitchClass].transposeBelowTarget(p)\n",
    "\n",
    "def chord_tones_above(p: pitch.Pitch, ch: chord.Chord, k: int) -> list[pitch.Pitch]:\n",
    "    '''\n",
    "    Return the k chord tones above and including p.\n",
    "    '''\n",
    "    res = [p]\n",
    "    for _ in range(k - 1):\n",
    "        res.append(next_chord_tone(res[-1], ch))\n",
    "    return res\n",
    "\n",
    "class BassModifier:\n",
    "    def __init__(self, score_path: str):\n",
    "        '''\n",
    "        Takes as input a path to a score which contains the chord labels\n",
    "        '''\n",
    "        self.sc = converter.parse(score_path)\n",
    "        self.bassline = self.sc.parts[1]\n",
    "        self.scale = self.bassline.keySignature.getScale('major')\n",
    "        self.chords = {}\n",
    "        self.notes = {}\n",
    "        for n in self.bassline.flatten()[note.Note]:\n",
    "            self.notes[n.offset] = n\n",
    "            p = n.pitch\n",
    "            self.chords[n.offset] = chord.Chord(\n",
    "                [p, self.scale.nextPitch(p, stepSize=2), self.scale.nextPitch(p, stepSize=4)],\n",
    "                duration=n.duration\n",
    "            )\n",
    "        self.measures = self.bassline[stream.Measure]\n",
    "    \n",
    "    def set_rhythm(self, n: note.Note, pattern: list[int]):\n",
    "        '''\n",
    "        Modifies a notes rhythm (where it is in a measure's context)\n",
    "        '''\n",
    "        d = n.quarterLength\n",
    "        m = self.bassline.measure(n.measureNumber)\n",
    "        curr_offset = n.offset # - m.offset\n",
    "        # print(\"Starting at\", offset, m.offset, n.measureNumber)\n",
    "        denom = sum(pattern)\n",
    "        for ix, amt in enumerate(pattern):\n",
    "            new_d = amt / denom * d\n",
    "            # print(\"Inserting\", new_d, \"at\", curr_offset)\n",
    "            if ix == 0:\n",
    "                n.quarterLength = new_d\n",
    "            else:\n",
    "                new_n = note.Note(n.pitch, duration=duration.Duration(new_d))\n",
    "                m.insert(curr_offset, new_n)\n",
    "            curr_offset += new_d\n",
    "\n",
    "    def inject_rhythm(self):\n",
    "        '''\n",
    "        For a loop of n chords, choose two patterns, one for first n-1, and a different\n",
    "        one for the nth (to give rhythmic drive to the next loop)\n",
    "        \n",
    "        Currently, breaks into half-note divisions and provides one of the following\n",
    "        distributions: \n",
    "        3:3:2, 3:1, 2:2, 1:1:1:1, 2:1:1, 1:1:2\n",
    "        \n",
    "        Operate on each half note first. Then organize which ones are special\n",
    "\n",
    "        Todo: make more decisions on the weighting.\n",
    "        '''\n",
    "        # n = len(self.bassline.measures())\n",
    "        # First pattern for the first n-1 measures\n",
    "        weights = [4, 3, 3, 1, 3, 2]\n",
    "        choices = [\n",
    "            [3, 3, 2],\n",
    "            [3, 1],\n",
    "            [1, 1],\n",
    "            [1, 1, 1, 1],\n",
    "            [2, 1, 1],\n",
    "            [1, 1, 2]\n",
    "        ]\n",
    "        selected_patterns = random.choices(choices, weights=weights, k=3)\n",
    "        \n",
    "        for m in self.measures[:-1]:\n",
    "            for n in m[note.Note]:\n",
    "                # Divide it by 2\n",
    "                self.set_rhythm(n, [2, 1, 1])\n",
    "            for n in m[note.Note]:\n",
    "                self.set_rhythm(n, selected_patterns[0])\n",
    "\n",
    "        for n in self.measures[-1][note.Note]:\n",
    "            self.set_rhythm(n, selected_patterns[2])\n",
    "\n",
    "    def arpeggiate(self):\n",
    "        '''\n",
    "        Set more diverse pitches for the rhythms\n",
    "        '''\n",
    "        # Randomly shift by amounts. \n",
    "        weights = [4, 3, 2, 3, 1]\n",
    "        choices = [\n",
    "            0, 1, 2, 3, 4 # Root, 3rd, 5th, 8th, 10th for now.\n",
    "        ]\n",
    "        selected_pattern = [0] + random.choices(choices, weights=weights, k=3)\n",
    "        curr_chord = self.chords[0]\n",
    "        chord_tones = chord_tones_above(curr_chord.root(), curr_chord, len(choices))\n",
    "        pattern_pos = 0\n",
    "        for m in self.measures:\n",
    "            for n in m[note.Note]:\n",
    "                # TODO: Maybe consider strong vs weak beats?\n",
    "                # Cycle through the pattern for the current chord\n",
    "                n.pitch = chord_tones[selected_pattern[pattern_pos]]\n",
    "                pattern_pos = (pattern_pos + 1) % len(selected_pattern)\n",
    "\n",
    "                curr_offset = m.offset + n.offset \n",
    "                if curr_offset in self.chords:\n",
    "                    curr_chord = self.chords[curr_offset]\n",
    "                    chord_tones = chord_tones_above(curr_chord.root(), curr_chord, len(choices))\n",
    "                    pattern_pos = 0\n",
    "    \n",
    "    \n",
    "    def thicken(self):\n",
    "        '''\n",
    "        Expand the notes to contain more chords, upwards\n",
    "        '''\n",
    "    \n",
    "    def insert_approach_tones(self):\n",
    "        '''\n",
    "        Override some of the previous rhythms with approach tones in front of new chords\n",
    "        '''\n",
    "        # for offset, ch\n",
    "\n",
    "    '''\n",
    "    First pass: Adding rhythm \n",
    "    Split into half notes. Then, choose patterns for each quarter\n",
    "    \n",
    "    Choose two patterns and place one for the final transition to give energy\n",
    "    \n",
    "    Second pass: Adding pitch \n",
    "    Choosing the arpeggios\n",
    "    \n",
    "    Third pass: Extending chords upward\n",
    "    '''\n",
    "    \n",
    "    \n",
    "\n",
    "#%%\n",
    "\n",
    "score_dir = '/Users/derrick/PycharmProjects/MIT/21M_383/music-melody-generator/scores/'\n",
    "bm = BassModifier(score_dir + \"Touch.mxl\")\n",
    "\n",
    "# list(bv.bassline.flatten()[note.Note].getElementsByOffset(4))[0].duration\n",
    "\n",
    "bm.inject_rhythm()\n",
    "bm.bassline.show()\n",
    "bm.arpeggiate()\n",
    "bm.bassline.show()\n",
    "\n",
    "#%%"
   ]
  },
  {
   "cell_type": "code",
   "execution_count": 1,
   "metadata": {
    "vscode": {
     "languageId": "python"
    }
   },
   "outputs": [],
   "source": [
    "# bm.bassline.write('midi', 'output.midi')\n",
    "print(\"Hello\")"
   ]
  },
  {
   "cell_type": "code",
   "execution_count": null,
   "metadata": {
    "vscode": {
     "languageId": "python"
    }
   },
   "outputs": [],
   "source": [
    "def play_midi():\n",
    "    file_path = 'output.midi'\n",
    "    bm.bassline.write('midi', file_path)\n",
    "\n",
    "    mf = midi.MidiFile()\n",
    "    mf.open(file_path)\n",
    "    mf.read()\n",
    "    mf.close()\n",
    "    s = midi.translate.midiFileToStream(mf)\n",
    "    sp = midi.realtime.StreamPlayer(s)\n",
    "    sp.play()"
   ]
  },
  {
   "cell_type": "code",
   "execution_count": null,
   "metadata": {
    "vscode": {
     "languageId": "python"
    }
   },
   "outputs": [
    {
     "ename": "StreamPlayerException",
     "evalue": "StreamPlayer requires pygame.  Install first",
     "output_type": "error",
     "traceback": [
      "\u001b[0;31m---------------------------------------------------------------------------\u001b[0m",
      "\u001b[0;31mModuleNotFoundError\u001b[0m                       Traceback (most recent call last)",
      "File \u001b[0;32m/Library/Frameworks/Python.framework/Versions/3.9/lib/python3.9/site-packages/music21/midi/realtime.py:87\u001b[0m, in \u001b[0;36mStreamPlayer.__init__\u001b[0;34m(self, streamIn, reinitMixer, mixerFreq, mixerBitSize, mixerChannels, mixerBuffer)\u001b[0m\n\u001b[1;32m     85\u001b[0m \u001b[39mtry\u001b[39;00m:\n\u001b[1;32m     86\u001b[0m     \u001b[39m# noinspection PyPackageRequirements\u001b[39;00m\n\u001b[0;32m---> 87\u001b[0m     \u001b[39mimport\u001b[39;00m \u001b[39mpygame\u001b[39;00m  \u001b[39m# type: ignore\u001b[39;00m\n\u001b[1;32m     88\u001b[0m     \u001b[39mself\u001b[39m\u001b[39m.\u001b[39mpygame \u001b[39m=\u001b[39m pygame\n",
      "\u001b[0;31mModuleNotFoundError\u001b[0m: No module named 'pygame'",
      "\nDuring handling of the above exception, another exception occurred:\n",
      "\u001b[0;31mStreamPlayerException\u001b[0m                     Traceback (most recent call last)",
      "Cell \u001b[0;32mIn[28], line 1\u001b[0m\n\u001b[0;32m----> 1\u001b[0m play_midi(\u001b[39m'\u001b[39;49m\u001b[39moutput.midi\u001b[39;49m\u001b[39m'\u001b[39;49m)\n",
      "Cell \u001b[0;32mIn[27], line 7\u001b[0m, in \u001b[0;36mplay_midi\u001b[0;34m(file_path)\u001b[0m\n\u001b[1;32m      5\u001b[0m mf\u001b[39m.\u001b[39mclose()\n\u001b[1;32m      6\u001b[0m s \u001b[39m=\u001b[39m midi\u001b[39m.\u001b[39mtranslate\u001b[39m.\u001b[39mmidiFileToStream(mf)\n\u001b[0;32m----> 7\u001b[0m sp \u001b[39m=\u001b[39m midi\u001b[39m.\u001b[39;49mrealtime\u001b[39m.\u001b[39;49mStreamPlayer(s)\n\u001b[1;32m      8\u001b[0m sp\u001b[39m.\u001b[39mplay()\n",
      "File \u001b[0;32m/Library/Frameworks/Python.framework/Versions/3.9/lib/python3.9/site-packages/music21/midi/realtime.py:90\u001b[0m, in \u001b[0;36mStreamPlayer.__init__\u001b[0;34m(self, streamIn, reinitMixer, mixerFreq, mixerBitSize, mixerChannels, mixerBuffer)\u001b[0m\n\u001b[1;32m     88\u001b[0m     \u001b[39mself\u001b[39m\u001b[39m.\u001b[39mpygame \u001b[39m=\u001b[39m pygame\n\u001b[1;32m     89\u001b[0m \u001b[39mexcept\u001b[39;00m \u001b[39mImportError\u001b[39;00m:\n\u001b[0;32m---> 90\u001b[0m     \u001b[39mraise\u001b[39;00m StreamPlayerException(\u001b[39m'\u001b[39m\u001b[39mStreamPlayer requires pygame.  Install first\u001b[39m\u001b[39m'\u001b[39m)\n\u001b[1;32m     91\u001b[0m \u001b[39mif\u001b[39;00m \u001b[39mself\u001b[39m\u001b[39m.\u001b[39mmixerInitialized \u001b[39mis\u001b[39;00m \u001b[39mFalse\u001b[39;00m \u001b[39mor\u001b[39;00m reinitMixer:\n\u001b[1;32m     92\u001b[0m     pygame\u001b[39m.\u001b[39mmixer\u001b[39m.\u001b[39minit(mixerFreq, mixerBitSize, mixerChannels, mixerBuffer)\n",
      "\u001b[0;31mStreamPlayerException\u001b[0m: StreamPlayer requires pygame.  Install first"
     ]
    }
   ],
   "source": [
    "play_midi('output.midi')"
   ]
  },
  {
   "cell_type": "code",
   "execution_count": null,
   "metadata": {
    "vscode": {
     "languageId": "python"
    }
   },
   "outputs": [],
   "source": []
  }
 ],
 "metadata": {
  "kernelspec": {
   "display_name": "Matlab",
   "language": "matlab",
   "name": "matlab"
  },
  "language_info": {
   "codemirror_mode": "octave",
   "file_extension": ".m",
   "help_links": [
    {
     "text": "MetaKernel Magics",
     "url": "https://metakernel.readthedocs.io/en/latest/source/README.html"
    }
   ],
   "mimetype": "text/x-octave",
   "name": "matlab",
   "version": "0.16.7"
  },
  "orig_nbformat": 4
 },
 "nbformat": 4,
 "nbformat_minor": 2
}
