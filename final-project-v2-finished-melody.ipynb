{
 "cells": [
  {
   "cell_type": "code",
   "execution_count": 39,
   "id": "431b3e60",
   "metadata": {},
   "outputs": [],
   "source": [
    "from music21 import *"
   ]
  },
  {
   "cell_type": "code",
   "execution_count": 4,
   "id": "efbbf8b0",
   "metadata": {},
   "outputs": [],
   "source": [
    "def major_scale(tonic: pitch.Pitch, pathological=True, isMinor = False) -> list[pitch.Pitch]:\n",
    "    '''\n",
    "    Given a tonic pitch.Pitch(), return a list of music21 pitch.Pitch \n",
    "    objects that form one octave of a major scale above that pitch,\n",
    "    including the tonic pitch at the beginning and the tonic pitch up an octave at the end.\n",
    "\n",
    "    (this is an example of a complete or nearly-complete docstring\n",
    "    that does not need to be filled in.)\n",
    "    '''\n",
    "    \n",
    "    '''\n",
    "    Note that there might be pathological names for keys, like E# major and \n",
    "    B-- major as indicated. The problem doesn't specify how we should\n",
    "    treat these: should we actually write something like \"E# F## ...\"\n",
    "    or should we first convert to E# = F and then the answer is \"F G ...\"?\n",
    "    \n",
    "    I choose the latter. This is for the following reasons:\n",
    "    \n",
    "    1) Nobody would actually say E# major or B-- major in practice.\n",
    "    The closest we get to something 'uncomfortable' is A# major, \n",
    "    but that's enharmonic in B-flat major, and besides, A# major\n",
    "    is just uncommon but not simplifiable.\n",
    "    \n",
    "    2) How sholud we represent \"E#\"'s other notes if we stick to it?\n",
    "    Should we go \"E# F## G## A# B## ...\"\n",
    "    or should it be\n",
    "    \"E# G A B- C ...\"?\n",
    "    \n",
    "    We could follow the standard rule by increasing by 2 or 1 semitones\n",
    "    as necessary, and making sure the 'base' letter (e.g. base letter of \n",
    "    \"A---\" is A) follows the EFGABCDE pattern, but...why?\n",
    "    \n",
    "    I mean, it is at least consistent. I don't think \"E# G A B- ...\"\n",
    "    will ever be seen.\n",
    "    \n",
    "    As a result, I have allowed my program to take BOTH results\n",
    "    based on the preference of the user.\n",
    "    \n",
    "    We can have the normal thing: first, change E# to F, and then keep going.\n",
    "    Otherwise, we can have the pathological thing: E# F## G## ...\n",
    "    \n",
    "    No matter what, the EFGABCDE pattern is the same.\n",
    "    '''\n",
    "    \n",
    "    #first, a few helpers\n",
    "    def letter(name: str) -> str:\n",
    "        '''\n",
    "        Gets the letter name of the pitch.\n",
    "        '''\n",
    "        return name[0]\n",
    "    \n",
    "    def modif(name: str) -> str:\n",
    "        '''\n",
    "        Gets the accidentals of the pitch.\n",
    "        '''\n",
    "        result = \"\"\n",
    "        for i in range(1, len(name)):\n",
    "            if name[i] not in '0123456789':\n",
    "                result += name[i]\n",
    "            else:\n",
    "                return result\n",
    "        return result\n",
    "    \n",
    "    def octave(name: str) -> str:\n",
    "        '''\n",
    "        returns the octave of the pitch.\n",
    "        '''\n",
    "        # print('octave', name)\n",
    "        numPos = 1\n",
    "        for i in range(1, len(name)):\n",
    "            if name[i] in '0123456789':\n",
    "                numPos = i\n",
    "                break\n",
    "        return name[numPos:]\n",
    "    \n",
    "    simple = tonic\n",
    "    if not pathological:\n",
    "        simple = tonic.simplifyEnharmonic()\n",
    "    \n",
    "    #now, start generating the rest of the sequence.\n",
    "    tones = [2, 2, 1, 2, 2, 2, 1] #how many half-steps to go up\n",
    "    if isMinor:\n",
    "        tones = [2, 1, 2, 2, 1, 2, 2]\n",
    "    \n",
    "    #how many half-steps to get up to the next letter without changing the symbol\n",
    "    halfs = {'C':2, 'D':2, 'E':1, 'F':2, 'G':2, 'A':2, 'B':1}\n",
    "    \n",
    "    letters = 'CDEFGAB'\n",
    "    \n",
    "    maj_scale = [0] * 8\n",
    "    maj_scale[0] = simple\n",
    "    #yes, there is an issue about referencing the tonic...we don't change it so I won't worry about it\n",
    "    \n",
    "    cur_pitch = simple.nameWithOctave #dealing with names is easy, also pitch is an expensive operation\n",
    "    for i in range(7):\n",
    "        # print('Current pitch', cur_pitch)\n",
    "        #repeat this process until we get to the top\n",
    "        movement = tones[i] #this is how much we need to move up\n",
    "        curLetter = letter(cur_pitch)\n",
    "        curOctave = octave(cur_pitch)\n",
    "        # print('current letter', curLetter, modif(cur_pitch), 'current octave', curOctave)\n",
    "        half_needed = halfs[curLetter] #how many half-tones we need to move\n",
    "        # print(curLetter, curOctave)\n",
    "        \n",
    "        differential = movement - half_needed #difference between these, either -1, 0, or 1\n",
    "        # print('movement to get to next tone in major', movement, 'half needed', half_needed)\n",
    "        \n",
    "        newPitchStr = \"\"\n",
    "        newLetter = \"\"\n",
    "        newOctave = \"\"\n",
    "        newAccidental = \"\"\n",
    "        \n",
    "        #no matter what our differential is, the new letter is clear. also check octave.\n",
    "        \n",
    "        letterPos = letters.index(curLetter)\n",
    "        # print('current letter', curLetter, 'letter position', letterPos)\n",
    "        if letterPos != len(letters) - 1:\n",
    "            '''\n",
    "            not going to be out of bounds\n",
    "            '''\n",
    "            newLetter = letters[letterPos + 1]\n",
    "            newOctave = curOctave\n",
    "        else:\n",
    "            # will be out of bounds.\n",
    "            newLetter = letters[0]\n",
    "            newOctave = str(int(curOctave) + 1)\n",
    "            \n",
    "        # print('new letter', newLetter, 'newoctave', newOctave)\n",
    "        \n",
    "        accidental = modif(cur_pitch)\n",
    "        # print('cur accidental', accidental)\n",
    "        #now, the accidentals\n",
    "        newAccidental = accidental\n",
    "        # print('new accidental', newAccidental)\n",
    "        # print('DIFFERENTIAL', differential)\n",
    "\n",
    "        if differential == 1:\n",
    "            '''\n",
    "            move the accidental UP one.\n",
    "            '''            \n",
    "            if accidental == '':\n",
    "                #nothing. add sharp\n",
    "                newAccidental += '#' \n",
    "            if '#' in accidental:\n",
    "                newAccidental = accidental + '#'\n",
    "            if '-' in accidental:\n",
    "                newAccidental = (accidental.count('-') - 1) * '-'\n",
    "        \n",
    "        if differential == -1:\n",
    "            #negative differential, move down one            \n",
    "            if accidental == '':\n",
    "                newAccidental += \"-\"\n",
    "            if '#' in accidental:\n",
    "                newAccidental = (accidental.count('#') - 1) * '#'\n",
    "            if '-' in accidental:\n",
    "                newAccidental = accidental + '-'\n",
    "        \n",
    "        # print('new accidental', newAccidental)\n",
    "        cur_pitch = newLetter  + newAccidental + newOctave\n",
    "        maj_scale[i+1] = pitch.Pitch(cur_pitch)\n",
    "    \n",
    "    return maj_scale"
   ]
  },
  {
   "cell_type": "code",
   "execution_count": 10,
   "id": "b218d42a",
   "metadata": {},
   "outputs": [],
   "source": [
    "def mutate_melody(score: stream.Score(), melody: stream.Part(), tonic: pitch.Pitch) -> stream.Part():\n",
    "    '''\n",
    "    given a melody, change it as appropriate. then return that melody.\n",
    "    '''\n",
    "    pass"
   ]
  },
  {
   "cell_type": "markdown",
   "id": "7399cea5",
   "metadata": {},
   "source": [
    "# Helper Functions\n",
    "\n",
    "They will help us for some basic tasks."
   ]
  },
  {
   "cell_type": "code",
   "execution_count": null,
   "id": "9d2299b6",
   "metadata": {},
   "outputs": [],
   "source": [
    "def note_without_octave(n: note.Note) -> str:\n",
    "    '''\n",
    "    given a note, \n",
    "    '''"
   ]
  },
  {
   "cell_type": "code",
   "execution_count": null,
   "id": "e7446f0d",
   "metadata": {},
   "outputs": [],
   "source": [
    "def next_note_up(n: note.Note, tonic. pitch.Pitch) -> note.Note:\n",
    "    '''\n",
    "    given a note in a scale, find the next note that's one higher.\n",
    "    '''\n",
    "    "
   ]
  },
  {
   "cell_type": "markdown",
   "id": "8bfa4351",
   "metadata": {},
   "source": [
    "# Modifications to Melody\n",
    "\n",
    "They are all intentionally short, and meant to be modular--that is, they can build on top of each other without causing much trouble."
   ]
  },
  {
   "cell_type": "markdown",
   "id": "9ccd278e",
   "metadata": {},
   "source": [
    "## Articulation Modifications"
   ]
  },
  {
   "cell_type": "code",
   "execution_count": 61,
   "id": "d29e79c1",
   "metadata": {},
   "outputs": [],
   "source": [
    "def staccato_short(melody: stream.Part(), min_dur: float):\n",
    "    '''\n",
    "    make all sufficiently-short notes in the melody staccato.\n",
    "    '''\n",
    "    for n in melody[note.Note]:\n",
    "        if n.quarterLength <= min_dur:\n",
    "            n.articulations += [articulations.Staccato()]"
   ]
  },
  {
   "cell_type": "code",
   "execution_count": 67,
   "id": "0035a11e",
   "metadata": {},
   "outputs": [],
   "source": [
    "def grace_beginners(melody: stream.Part(), tonic: pitch.Pitch, offset_mult=4):\n",
    "    '''\n",
    "    given a melody, add a grace note to notes which have the desired offset\n",
    "    multiplier (default 4; grace at 0, 4, 8, etc.)\n",
    "    \n",
    "    This method is to be called last!\n",
    "    '''\n",
    "    sc = scale.MajorScale(tonic.name)\n",
    "    \n",
    "    for n in melody[note.Note]:\n",
    "        if n.offset % offset_mult == 0:\n",
    "            grace_start = note.Note(sc.nextPitch(n.nameWithOctave))\n",
    "            grace = grace_start.getGrace()\n",
    "            melody.insert(n.offset, grace)"
   ]
  },
  {
   "cell_type": "code",
   "execution_count": 63,
   "id": "6904c67d",
   "metadata": {},
   "outputs": [],
   "source": [
    "def accent_downbeat(melody: stream.Part()):\n",
    "    '''\n",
    "    given a melody, accent every downbeat of the measures of the melody.\n",
    "    '''\n",
    "    for n in melody[note.Note]:\n",
    "        n.articulations += [articulations.Accent()]"
   ]
  },
  {
   "cell_type": "code",
   "execution_count": 60,
   "id": "498cd91d",
   "metadata": {},
   "outputs": [
    {
     "name": "stdout",
     "output_type": "stream",
     "text": [
      "<music21.note.Note A>\n",
      "<music21.note.Note G>\n"
     ]
    }
   ],
   "source": [
    "n = note.Note('G4')\n",
    "n\n",
    "melody = stream.Part()\n",
    "melody.append(n)\n",
    "accent_downbeat(melody)\n",
    "grace_beginners(melody, pitch.Pitch('C4'))\n",
    "for no in melody[note.Note]:\n",
    "    print(no)"
   ]
  },
  {
   "cell_type": "code",
   "execution_count": 43,
   "id": "299c5569",
   "metadata": {
    "scrolled": true
   },
   "outputs": [
    {
     "data": {
      "text/plain": [
       "<music21.pitch.Pitch F#4>"
      ]
     },
     "execution_count": 43,
     "metadata": {},
     "output_type": "execute_result"
    }
   ],
   "source": [
    "sc = scale.MajorScale('A')\n",
    "sc.nextPitch(note.Note('F4').nameWithOctave)"
   ]
  },
  {
   "cell_type": "markdown",
   "id": "40d3cac6",
   "metadata": {},
   "source": [
    "## Involvement\n",
    "\n",
    "The melody gets thicker...or less so."
   ]
  },
  {
   "cell_type": "code",
   "execution_count": 53,
   "id": "3cd8b83b",
   "metadata": {},
   "outputs": [],
   "source": [
    "def double_note_frequency(melody: stream.Part(), tonic: pitch.Pitch) -> stream.Part():\n",
    "    '''\n",
    "    given a melody, change each note to have two notes, each with double the frequency\n",
    "    '''\n",
    "    \n",
    "    newm = stream.Part()\n",
    "    for n in melody[note.Note]:\n",
    "        n1 = copy.deepcopy(n)\n",
    "        n2 = copy.deepcopy(n1)\n",
    "        \n",
    "        n1.quarterLength = n.quarterLength * 0.5\n",
    "        #this will modify both of them correctly\n",
    "        \n",
    "        #delete note n\n",
    "        #add to that place: n1, n2 sequentially\n",
    "        newm.append(n1)\n",
    "        newm.append(n2)\n",
    "    \n",
    "    return newm"
   ]
  },
  {
   "cell_type": "code",
   "execution_count": 57,
   "id": "2272a0a5",
   "metadata": {},
   "outputs": [
    {
     "name": "stdout",
     "output_type": "stream",
     "text": [
      "<music21.note.Note G> 0.0\n",
      "<music21.note.Note G> 0.5\n",
      "<music21.note.Note G#> 1.5\n",
      "<music21.note.Note G#> 2.0\n"
     ]
    }
   ],
   "source": [
    "# test double_note_frequency\n",
    "melody = stream.Part()\n",
    "melody.append(note.Note('G4'))\n",
    "melody.append(note.Note('G#4'))\n",
    "\n",
    "newm = double_note_frequency(melody, pitch.Pitch('G4'))\n",
    "for n in newm[note.Note]:\n",
    "    print(n, n.offset)"
   ]
  },
  {
   "cell_type": "code",
   "execution_count": 79,
   "id": "71a2c16b",
   "metadata": {},
   "outputs": [],
   "source": [
    "def elevate_repeats(melody: stream.Part(), tonic: pitch.Pitch, offset_mult=4) -> stream.Part():\n",
    "    '''\n",
    "    given a melody, for every note which starts a measure or a given offset\n",
    "    multiplier (default 4: start of a 4/4 measure), change that note\n",
    "    to have the next note up for the last 1/4 duration.\n",
    "    \n",
    "    Inspired by Country Gardens.\n",
    "    \n",
    "    C(4)-C(4) becomes C(3)-D(1)-C(4); parentheses illustrate durations.\n",
    "    '''\n",
    "    \n",
    "    sc = scale.MajorScale(tonic.name)\n",
    "    \n",
    "    for n in melody[note.Note]:\n",
    "        if n.offset % offset_mult == 0:\n",
    "            dur = n.quarterLength\n",
    "            n.quarterLength = 0.75 * dur\n",
    "            add_note = note.Note(sc.nextPitch(n.nameWithOctave))\n",
    "            add_note.quarterLength = 0.25 * dur\n",
    "            melody.insert(n.offset + 0.75*dur, add_note)"
   ]
  },
  {
   "cell_type": "code",
   "execution_count": 168,
   "id": "56ad4045",
   "metadata": {},
   "outputs": [
    {
     "name": "stdout",
     "output_type": "stream",
     "text": [
      "1.0\n",
      "<music21.note.Note G> 0.0\n",
      "<music21.note.Note A> 0.75\n",
      "<music21.note.Note G> 1.0\n",
      "<music21.note.Note G> 2.0\n",
      "<music21.note.Note G> 3.0\n",
      "<music21.note.Note G> 4.0\n",
      "<music21.note.Note A> 4.75\n"
     ]
    }
   ],
   "source": [
    "melody = stream.Part()\n",
    "melody.append(note.Note('G4'))\n",
    "melody.append(note.Note('G4'))\n",
    "melody.append(note.Note('G4'))\n",
    "melody.append(note.Note('G4'))\n",
    "melody.append(note.Note('G4'))\n",
    "print(note.Note('G4').quarterLength)\n",
    "melody\n",
    "elevate_repeats(melody, pitch.Pitch('C4'))\n",
    "for no in melody[note.Note]:\n",
    "    print(no, no.offset)"
   ]
  },
  {
   "cell_type": "markdown",
   "id": "905d95ba",
   "metadata": {},
   "source": [
    "## Stacking\n",
    "\n",
    "Keep the same notes, but thicken them."
   ]
  },
  {
   "cell_type": "code",
   "execution_count": 167,
   "id": "dc2923bb",
   "metadata": {},
   "outputs": [],
   "source": [
    "def chord_it(melody: stream.Part(), tonic: pitch.Pitch, is_above=False, offset_mult=4) -> stream.Part():\n",
    "    '''\n",
    "    given a melody, take the first note of each measure and turn that into a chord\n",
    "    '''\n",
    "    sc = scale.MajorScale(tonic.name)\n",
    "    \n",
    "    for n in melody[note.Note]:\n",
    "        chord_notes = []\n",
    "        if n.offset % offset_mult == 0:\n",
    "            pitch_nums = [2, 4, 7]\n",
    "            for i in range(3):\n",
    "                new_note = note.Note(sc.nextPitch(n.nameWithOctave, stepSize=pitch_nums[i]).nameWithOctave)\n",
    "                new_note.quarterLength = n.quarterLength\n",
    "                if not is_above:\n",
    "                    new_note.octave -= 1 if new_note.name != n.name else 2\n",
    "                chord_notes.append(new_note)\n",
    "            new_chord = chord.Chord(chord_notes)\n",
    "            melody.insert(n.offset, new_chord)"
   ]
  },
  {
   "cell_type": "code",
   "execution_count": 169,
   "id": "65f8b26a",
   "metadata": {},
   "outputs": [
    {
     "name": "stdout",
     "output_type": "stream",
     "text": [
      "<music21.chord.Chord B3 D4 G3> (<music21.pitch.Pitch B3>, <music21.pitch.Pitch D4>, <music21.pitch.Pitch G3>) 0.0\n",
      "<music21.chord.Chord B3 D4 G3> (<music21.pitch.Pitch B3>, <music21.pitch.Pitch D4>, <music21.pitch.Pitch G3>) 4.0\n"
     ]
    },
    {
     "data": {
      "text/html": [
       "\n",
       "                <div id=\"midiPlayerDiv740\"></div>\n",
       "                <link rel=\"stylesheet\" href=\"//cuthbertLab.github.io/music21j/css/m21.css\"\n",
       "                    type=\"text/css\" />\n",
       "                \n",
       "                <script>\n",
       "                require.config({\n",
       "                    paths: {'music21': '//cuthbertLab.github.io/music21j/src/music21'}\n",
       "                });\n",
       "                require(['music21'], function() {\n",
       "                               mp = new music21.miditools.MidiPlayer();\n",
       "                               mp.addPlayer(\"#midiPlayerDiv740\");\n",
       "                               mp.base64Load(\"data:audio/midi;base64,TVRoZAAAAAYAAQACBABNVHJrAAAAFAD/UQMHoSAA/1gEBAIYCIgA/y8ATVRyawAAAH0A/wMAAOAAQIgAkENaAJA7WgCQPloAkDdahgCAQwAAgDsAAIA+AACANwAAkEVaggCARQAAkENaiACAQwAAkENaiACAQwAAkENaiACAQwAAkENaAJA7WgCQPloAkDdahgCAQwAAgDsAAIA+AACANwAAkEVaggCARQCIAP8vAA==\");\n",
       "                        });\n",
       "                </script>"
      ],
      "text/plain": [
       "<IPython.core.display.HTML object>"
      ]
     },
     "metadata": {},
     "output_type": "display_data"
    }
   ],
   "source": [
    "chord_it(melody, pitch.Pitch('C4'))\n",
    "\n",
    "for no in melody[chord.Chord]:\n",
    "    print(no, no.pitches, no.offset)\n",
    "\n",
    "melody.show('midi')"
   ]
  },
  {
   "cell_type": "code",
   "execution_count": 149,
   "id": "c9b585c5",
   "metadata": {},
   "outputs": [
    {
     "data": {
      "text/plain": [
       "6"
      ]
     },
     "execution_count": 149,
     "metadata": {},
     "output_type": "execute_result"
    }
   ],
   "source": [
    "n = note.Note('G6')\n",
    "\n",
    "p = pitch.Pitch('G6')\n",
    "\n",
    "p.octave"
   ]
  },
  {
   "cell_type": "markdown",
   "id": "b02ab9d2",
   "metadata": {},
   "source": [
    "# Scaling the Hierarchy\n",
    "\n",
    "Becuse parts cannot simply be concatenated to each other, we will need a few helper functions."
   ]
  },
  {
   "cell_type": "code",
   "execution_count": 21,
   "id": "85d7b423",
   "metadata": {},
   "outputs": [
    {
     "name": "stdout",
     "output_type": "stream",
     "text": [
      "<music21.note.Note G> 4 0.0\n",
      "<music21.note.Note G> 43 0.0\n",
      "<music21.note.Note F> 4 1.0\n",
      "<music21.note.Note F> 43 1.0\n"
     ]
    }
   ],
   "source": [
    "import copy\n",
    "\n",
    "melody = stream.Part()\n",
    "melody.append(note.Note('G4'))\n",
    "melody.append(note.Note('F4'))\n",
    "\n",
    "melody2 = stream.Part()\n",
    "melody2.append(note.Note('G43'))\n",
    "melody2.append(note.Note('F43'))\n",
    "\n",
    "melody3 = melody + melody2\n",
    "\n",
    "for n in melody3[note.Note]:\n",
    "    print(n, n.octave, n.offset)"
   ]
  },
  {
   "cell_type": "markdown",
   "id": "fe9259d9",
   "metadata": {},
   "source": [
    "# Testing\n",
    "\n",
    "We will test our function on pieces of different genres and see how they compare."
   ]
  },
  {
   "cell_type": "code",
   "execution_count": 9,
   "id": "b31bdc83",
   "metadata": {},
   "outputs": [
    {
     "data": {
      "text/plain": [
       "<music21.stream.Part Soprano>"
      ]
     },
     "execution_count": 9,
     "metadata": {},
     "output_type": "execute_result"
    }
   ],
   "source": [
    "# primary test: Bach!\n",
    "\n",
    "bach = corpus.parse('bwv66.6')\n",
    "\n",
    "bach_melody = bach[1]\n",
    "\n",
    "tonic = pitch.Pitch('A4')\n",
    "\n",
    "changed_melody = mutate_melody(bach, bach_melody, tonic)"
   ]
  }
 ],
 "metadata": {
  "kernelspec": {
   "display_name": "Python 3 (ipykernel)",
   "language": "python",
   "name": "python3"
  },
  "language_info": {
   "codemirror_mode": {
    "name": "ipython",
    "version": 3
   },
   "file_extension": ".py",
   "mimetype": "text/x-python",
   "name": "python",
   "nbconvert_exporter": "python",
   "pygments_lexer": "ipython3",
   "version": "3.9.2"
  }
 },
 "nbformat": 4,
 "nbformat_minor": 5
}
