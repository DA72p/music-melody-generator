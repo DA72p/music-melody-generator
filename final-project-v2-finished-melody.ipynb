{
 "cells": [
  {
   "cell_type": "code",
   "execution_count": 11,
   "id": "431b3e60",
   "metadata": {},
   "outputs": [],
   "source": [
    "from music21 import *\n",
    "import copy"
   ]
  },
  {
   "cell_type": "code",
   "execution_count": null,
   "id": "4558de1b",
   "metadata": {},
   "outputs": [],
   "source": []
  },
  {
   "cell_type": "code",
   "execution_count": null,
   "id": "aee4f735",
   "metadata": {},
   "outputs": [],
   "source": []
  },
  {
   "cell_type": "code",
   "execution_count": null,
   "id": "77a701cf",
   "metadata": {},
   "outputs": [],
   "source": []
  },
  {
   "cell_type": "code",
   "execution_count": 27,
   "id": "b218d42a",
   "metadata": {},
   "outputs": [],
   "source": [
    "def mutate_melody(melody: stream.Part(), tonic: pitch.Pitch, key):\n",
    "    '''\n",
    "    given a melody, change it as appropriate. then return that melody.\n",
    "    '''\n",
    "    staccato_short(melody, 0.9)\n",
    "    accent_downbeat(melody)\n",
    "    elevate_repeats(melody, tonic)\n",
    "    chord_it(melody, tonic)\n",
    "    grace_beginners(melody, tonic)"
   ]
  },
  {
   "attachments": {},
   "cell_type": "markdown",
   "id": "7399cea5",
   "metadata": {},
   "source": [
    "# Helper Functions\n",
    "\n",
    "They will help us for some basic tasks."
   ]
  },
  {
   "cell_type": "code",
   "execution_count": null,
   "id": "9d2299b6",
   "metadata": {},
   "outputs": [],
   "source": [
    "def note_without_octave(n: note.Note) -> str:\n",
    "    '''\n",
    "    given a note, \n",
    "    '''"
   ]
  },
  {
   "cell_type": "code",
   "execution_count": null,
   "id": "e7446f0d",
   "metadata": {},
   "outputs": [],
   "source": [
    "def next_note_up(n: note.Note, tonic. pitch.Pitch) -> note.Note:\n",
    "    '''\n",
    "    given a note in a scale, find the next note that's one higher.\n",
    "    '''\n",
    "    "
   ]
  },
  {
   "attachments": {},
   "cell_type": "markdown",
   "id": "8bfa4351",
   "metadata": {},
   "source": [
    "# Modifications to Melody\n",
    "\n",
    "They are all intentionally short, and meant to be modular--that is, they can build on top of each other without causing much trouble."
   ]
  },
  {
   "attachments": {},
   "cell_type": "markdown",
   "id": "9ccd278e",
   "metadata": {},
   "source": [
    "## Articulation Modifications"
   ]
  },
  {
   "cell_type": "code",
   "execution_count": 12,
   "id": "d29e79c1",
   "metadata": {},
   "outputs": [],
   "source": [
    "def staccato_short(melody: stream.Part(), min_dur: float):\n",
    "    '''\n",
    "    make all sufficiently-short notes in the melody staccato.\n",
    "    '''\n",
    "    for n in melody[note.Note]:\n",
    "        if n.quarterLength <= min_dur:\n",
    "            n.articulations += [articulations.Staccato()]"
   ]
  },
  {
   "cell_type": "code",
   "execution_count": 13,
   "id": "0035a11e",
   "metadata": {},
   "outputs": [],
   "source": [
    "def grace_beginners(melody: stream.Part(), tonic: pitch.Pitch, offset_mult=4):\n",
    "    '''\n",
    "    given a melody, add a grace note to notes which have the desired offset\n",
    "    multiplier (default 4; grace at 0, 4, 8, etc.)\n",
    "    \n",
    "    This method is to be called last!\n",
    "    '''\n",
    "    sc = scale.MajorScale(tonic.name)\n",
    "    \n",
    "    for n in melody[note.Note]:\n",
    "        if n.offset % offset_mult == 0:\n",
    "            grace_start = note.Note(sc.nextPitch(n.nameWithOctave))\n",
    "            grace = grace_start.getGrace()\n",
    "            melody.insert(n.offset, grace)"
   ]
  },
  {
   "cell_type": "code",
   "execution_count": 14,
   "id": "6904c67d",
   "metadata": {},
   "outputs": [],
   "source": [
    "def accent_downbeat(melody: stream.Part()):\n",
    "    '''\n",
    "    given a melody, accent every downbeat of the measures of the melody.\n",
    "    '''\n",
    "    for n in melody[note.Note]:\n",
    "        n.articulations += [articulations.Accent()]"
   ]
  },
  {
   "cell_type": "code",
   "execution_count": 15,
   "id": "498cd91d",
   "metadata": {},
   "outputs": [
    {
     "name": "stdout",
     "output_type": "stream",
     "text": [
      "<music21.note.Note A>\n",
      "<music21.note.Note G>\n"
     ]
    }
   ],
   "source": [
    "n = note.Note('G4')\n",
    "n\n",
    "melody = stream.Part()\n",
    "melody.append(n)\n",
    "accent_downbeat(melody)\n",
    "grace_beginners(melody, pitch.Pitch('C4'))\n",
    "for no in melody[note.Note]:\n",
    "    print(no)"
   ]
  },
  {
   "cell_type": "code",
   "execution_count": 16,
   "id": "299c5569",
   "metadata": {
    "scrolled": true
   },
   "outputs": [
    {
     "data": {
      "text/plain": [
       "<music21.pitch.Pitch F#4>"
      ]
     },
     "execution_count": 16,
     "metadata": {},
     "output_type": "execute_result"
    }
   ],
   "source": [
    "sc = scale.MajorScale('A')\n",
    "sc.nextPitch(note.Note('F4').nameWithOctave)"
   ]
  },
  {
   "attachments": {},
   "cell_type": "markdown",
   "id": "40d3cac6",
   "metadata": {},
   "source": [
    "## Involvement\n",
    "\n",
    "The melody gets thicker...or less so."
   ]
  },
  {
   "cell_type": "code",
   "execution_count": 17,
   "id": "3cd8b83b",
   "metadata": {},
   "outputs": [],
   "source": [
    "def double_note_frequency(melody: stream.Part(), tonic: pitch.Pitch) -> stream.Part():\n",
    "    '''\n",
    "    given a melody, change each note to have two notes, each with double the frequency\n",
    "    '''\n",
    "    \n",
    "    newm = stream.Part()\n",
    "    for n in melody[note.Note]:\n",
    "        n1 = copy.deepcopy(n)\n",
    "        n2 = copy.deepcopy(n1)\n",
    "        \n",
    "        n1.quarterLength = n.quarterLength * 0.5\n",
    "        #this will modify both of them correctly\n",
    "        \n",
    "        #delete note n\n",
    "        #add to that place: n1, n2 sequentially\n",
    "        newm.append(n1)\n",
    "        newm.append(n2)\n",
    "    \n",
    "    return newm"
   ]
  },
  {
   "cell_type": "code",
   "execution_count": 18,
   "id": "2272a0a5",
   "metadata": {},
   "outputs": [
    {
     "name": "stdout",
     "output_type": "stream",
     "text": [
      "<music21.note.Note G> 0.0\n",
      "<music21.note.Note G> 0.5\n",
      "<music21.note.Note G#> 1.5\n",
      "<music21.note.Note G#> 2.0\n"
     ]
    }
   ],
   "source": [
    "# test double_note_frequency\n",
    "melody = stream.Part()\n",
    "melody.append(note.Note('G4'))\n",
    "melody.append(note.Note('G#4'))\n",
    "\n",
    "newm = double_note_frequency(melody, pitch.Pitch('G4'))\n",
    "for n in newm[note.Note]:\n",
    "    print(n, n.offset)"
   ]
  },
  {
   "cell_type": "code",
   "execution_count": 19,
   "id": "71a2c16b",
   "metadata": {},
   "outputs": [],
   "source": [
    "def elevate_repeats(melody: stream.Part(), tonic: pitch.Pitch, offset_mult=4):\n",
    "    '''\n",
    "    given a melody, for every note which starts a measure or a given offset\n",
    "    multiplier (default 4: start of a 4/4 measure), change that note\n",
    "    to have the next note up for the last 1/4 duration.\n",
    "    \n",
    "    Inspired by Country Gardens.\n",
    "    \n",
    "    C(4)-C(4) becomes C(3)-D(1)-C(4); parentheses illustrate durations.\n",
    "    '''\n",
    "    \n",
    "    sc = scale.MajorScale(tonic.name)\n",
    "    \n",
    "    for n in melody[note.Note]:\n",
    "        if n.offset % offset_mult == 0:\n",
    "            dur = n.quarterLength\n",
    "            n.quarterLength = 0.75 * dur\n",
    "            add_note = note.Note(sc.nextPitch(n.nameWithOctave))\n",
    "            add_note.quarterLength = 0.25 * dur\n",
    "            melody.insert(n.offset + 0.75*dur, add_note)"
   ]
  },
  {
   "cell_type": "code",
   "execution_count": 20,
   "id": "56ad4045",
   "metadata": {},
   "outputs": [
    {
     "name": "stdout",
     "output_type": "stream",
     "text": [
      "1.0\n",
      "<music21.note.Note G> 0.0\n",
      "<music21.note.Note A> 0.75\n",
      "<music21.note.Note G> 1.0\n",
      "<music21.note.Note G> 2.0\n",
      "<music21.note.Note G> 3.0\n",
      "<music21.note.Note G> 4.0\n",
      "<music21.note.Note A> 4.75\n"
     ]
    }
   ],
   "source": [
    "melody = stream.Part()\n",
    "melody.append(note.Note('G4'))\n",
    "melody.append(note.Note('G4'))\n",
    "melody.append(note.Note('G4'))\n",
    "melody.append(note.Note('G4'))\n",
    "melody.append(note.Note('G4'))\n",
    "print(note.Note('G4').quarterLength)\n",
    "melody\n",
    "elevate_repeats(melody, pitch.Pitch('C4'))\n",
    "for no in melody[note.Note]:\n",
    "    print(no, no.offset)"
   ]
  },
  {
   "attachments": {},
   "cell_type": "markdown",
   "id": "905d95ba",
   "metadata": {},
   "source": [
    "## Stacking\n",
    "\n",
    "Keep the same notes, but thicken them."
   ]
  },
  {
   "cell_type": "code",
   "execution_count": 21,
   "id": "dc2923bb",
   "metadata": {},
   "outputs": [],
   "source": [
    "def chord_it(melody: stream.Part(), tonic: pitch.Pitch, is_above=False, offset_mult=4):\n",
    "    '''\n",
    "    given a melody, take the first note of each measure and turn that into a chord\n",
    "    '''\n",
    "    sc = scale.MajorScale(tonic.name)\n",
    "    \n",
    "    for n in melody[note.Note]:\n",
    "        chord_notes = []\n",
    "        if n.offset % offset_mult == 0:\n",
    "            pitch_nums = [2, 4, 7]\n",
    "            for i in range(3):\n",
    "                new_note = note.Note(sc.nextPitch(n.nameWithOctave, stepSize=pitch_nums[i]).nameWithOctave)\n",
    "                new_note.quarterLength = n.quarterLength\n",
    "                if not is_above:\n",
    "                    new_note.octave -= 1 if new_note.name != n.name else 2\n",
    "                chord_notes.append(new_note)\n",
    "            new_chord = chord.Chord(chord_notes)\n",
    "            melody.insert(n.offset, new_chord)"
   ]
  },
  {
   "cell_type": "code",
   "execution_count": 22,
   "id": "65f8b26a",
   "metadata": {},
   "outputs": [
    {
     "name": "stdout",
     "output_type": "stream",
     "text": [
      "<music21.chord.Chord B3 D4 G3> (<music21.pitch.Pitch B3>, <music21.pitch.Pitch D4>, <music21.pitch.Pitch G3>) 0.0\n",
      "<music21.chord.Chord B3 D4 G3> (<music21.pitch.Pitch B3>, <music21.pitch.Pitch D4>, <music21.pitch.Pitch G3>) 4.0\n"
     ]
    },
    {
     "data": {
      "text/html": [
       "\n",
       "                <div id=\"midiPlayerDiv69\"></div>\n",
       "                <link rel=\"stylesheet\" href=\"//cuthbertLab.github.io/music21j/css/m21.css\"\n",
       "                    type=\"text/css\" />\n",
       "                \n",
       "                <script>\n",
       "                require.config({\n",
       "                    paths: {'music21': '//cuthbertLab.github.io/music21j/src/music21'}\n",
       "                });\n",
       "                require(['music21'], function() {\n",
       "                               mp = new music21.miditools.MidiPlayer();\n",
       "                               mp.addPlayer(\"#midiPlayerDiv69\");\n",
       "                               mp.base64Load(\"data:audio/midi;base64,TVRoZAAAAAYAAQACBABNVHJrAAAAFAD/UQMHoSAA/1gEBAIYCIgA/y8ATVRyawAAAH0A/wMAAOAAQIgAkENaAJA7WgCQPloAkDdahgCAQwAAgDsAAIA+AACANwAAkEVaggCARQAAkENaiACAQwAAkENaiACAQwAAkENaiACAQwAAkENaAJA7WgCQPloAkDdahgCAQwAAgDsAAIA+AACANwAAkEVaggCARQCIAP8vAA==\");\n",
       "                        });\n",
       "                </script>"
      ],
      "text/plain": [
       "<IPython.core.display.HTML object>"
      ]
     },
     "metadata": {},
     "output_type": "display_data"
    }
   ],
   "source": [
    "chord_it(melody, pitch.Pitch('C4'))\n",
    "\n",
    "for no in melody[chord.Chord]:\n",
    "    print(no, no.pitches, no.offset)\n",
    "\n",
    "melody.show('midi')"
   ]
  },
  {
   "cell_type": "code",
   "execution_count": 23,
   "id": "c9b585c5",
   "metadata": {},
   "outputs": [
    {
     "data": {
      "text/plain": [
       "6"
      ]
     },
     "execution_count": 23,
     "metadata": {},
     "output_type": "execute_result"
    }
   ],
   "source": [
    "n = note.Note('G6')\n",
    "\n",
    "p = pitch.Pitch('G6')\n",
    "\n",
    "p.octave"
   ]
  },
  {
   "attachments": {},
   "cell_type": "markdown",
   "id": "b02ab9d2",
   "metadata": {},
   "source": [
    "# Scaling the Hierarchy\n",
    "\n",
    "Becuse parts cannot simply be concatenated to each other, we will need a few helper functions."
   ]
  },
  {
   "cell_type": "code",
   "execution_count": 24,
   "id": "85d7b423",
   "metadata": {},
   "outputs": [
    {
     "name": "stdout",
     "output_type": "stream",
     "text": [
      "<music21.note.Note G> 4 0.0\n",
      "<music21.note.Note G> 43 0.0\n",
      "<music21.note.Note F> 4 1.0\n",
      "<music21.note.Note F> 43 1.0\n"
     ]
    }
   ],
   "source": [
    "import copy\n",
    "\n",
    "melody = stream.Part()\n",
    "melody.append(note.Note('G4'))\n",
    "melody.append(note.Note('F4'))\n",
    "\n",
    "melody2 = stream.Part()\n",
    "melody2.append(note.Note('G43'))\n",
    "melody2.append(note.Note('F43'))\n",
    "\n",
    "melody3 = melody + melody2\n",
    "\n",
    "for n in melody3[note.Note]:\n",
    "    print(n, n.octave, n.offset)"
   ]
  },
  {
   "attachments": {},
   "cell_type": "markdown",
   "id": "fe9259d9",
   "metadata": {},
   "source": [
    "# Testing\n",
    "\n",
    "We will test our function on pieces of different genres and see how they compare."
   ]
  },
  {
   "cell_type": "code",
   "execution_count": 30,
   "id": "b31bdc83",
   "metadata": {},
   "outputs": [],
   "source": [
    "# primary test: Bach!\n",
    "\n",
    "bach = corpus.parse('bwv66.6')\n",
    "\n",
    "bach_melody = bach[1]\n",
    "\n",
    "tonic = pitch.Pitch('A4')\n",
    "\n",
    "changed_melody = mutate_melody(bach_melody, tonic, bach.keySignature)"
   ]
  },
  {
   "cell_type": "code",
   "execution_count": 31,
   "id": "8ec03efd",
   "metadata": {},
   "outputs": [
    {
     "data": {
      "image/png": "[encoded data removed]",
      "text/plain": [
       "<IPython.core.display.Image object>"
      ]
     },
     "metadata": {
      "image/png": {
       "height": 424,
       "width": 708
      }
     },
     "output_type": "display_data"
    }
   ],
   "source": [
    "bach_melody.show()"
   ]
  },
  {
   "cell_type": "code",
   "execution_count": null,
   "id": "40d422e5",
   "metadata": {},
   "outputs": [],
   "source": []
  }
 ],
 "metadata": {
  "kernelspec": {
   "display_name": "Python 3 (ipykernel)",
   "language": "python",
   "name": "python3"
  },
  "language_info": {
   "codemirror_mode": {
    "name": "ipython",
    "version": 3
   },
   "file_extension": ".py",
   "mimetype": "text/x-python",
   "name": "python",
   "nbconvert_exporter": "python",
   "pygments_lexer": "ipython3",
   "version": "3.9.2"
  }
 },
 "nbformat": 4,
 "nbformat_minor": 5
}
