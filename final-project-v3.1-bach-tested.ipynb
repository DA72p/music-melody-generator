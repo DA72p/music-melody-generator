{
 "cells": [
  {
   "cell_type": "code",
   "execution_count": 37,
   "id": "431b3e60",
   "metadata": {},
   "outputs": [],
   "source": [
    "from music21 import *\n",
    "import copy"
   ]
  },
  {
   "cell_type": "code",
   "execution_count": 89,
   "id": "b218d42a",
   "metadata": {},
   "outputs": [],
   "source": [
    "def mutate_melody(melody: stream.Part(), tonic: pitch.Pitch) -> stream.Part():\n",
    "    '''\n",
    "    given a melody, change it as appropriate. then return that melody.\n",
    "    '''\n",
    "    staccato_short(melody, 0.9)\n",
    "    accent_downbeat(melody)\n",
    "    \n",
    "    # double_note_frequency(melody, tonic)\n",
    "    elevate_repeats(melody, tonic)\n",
    "    \n",
    "    chord_it(melody, tonic)\n",
    "    grace_beginners(melody, tonic)"
   ]
  },
  {
   "cell_type": "markdown",
   "id": "8bfa4351",
   "metadata": {},
   "source": [
    "# Modifications to Melody\n",
    "\n",
    "They are all intentionally short, and meant to be modular--that is, they can build on top of each other without causing much trouble."
   ]
  },
  {
   "cell_type": "markdown",
   "id": "9ccd278e",
   "metadata": {},
   "source": [
    "## Articulation Modifications"
   ]
  },
  {
   "cell_type": "code",
   "execution_count": 75,
   "id": "d29e79c1",
   "metadata": {},
   "outputs": [],
   "source": [
    "def staccato_short(melody: stream.Part(), min_dur: float):\n",
    "    '''\n",
    "    make all sufficiently-short notes in the melody staccato.\n",
    "    '''\n",
    "    for n in melody[note.Note]:\n",
    "        if n.quarterLength <= min_dur:\n",
    "            n.articulations += [articulations.Staccato()]"
   ]
  },
  {
   "cell_type": "code",
   "execution_count": 76,
   "id": "6904c67d",
   "metadata": {},
   "outputs": [],
   "source": [
    "def accent_downbeat(melody: stream.Part()):\n",
    "    '''\n",
    "    given a melody, accent every downbeat of the measures of the melody.\n",
    "    '''\n",
    "    for m in melody[stream.Measure]:\n",
    "        for n in m[note.Note]:\n",
    "            if n.offset == 0:\n",
    "                n.articulations += [articulations.Accent()]"
   ]
  },
  {
   "cell_type": "code",
   "execution_count": 77,
   "id": "0035a11e",
   "metadata": {},
   "outputs": [],
   "source": [
    "def grace_beginners(melody: stream.Part(), tonic: pitch.Pitch, offset_desired=2):\n",
    "    '''\n",
    "    given a melody, add a grace note to downbeat notes of measures\n",
    "    '''\n",
    "    sc = scale.MajorScale(tonic.name)\n",
    "    for m in melody[stream.Measure]:\n",
    "        for n in m[note.Note]:\n",
    "            if n.offset == offset_desired:\n",
    "                grace_start = note.Note(sc.nextPitch(n.nameWithOctave))\n",
    "                grace = grace_start.getGrace()\n",
    "                m.insert(0, grace)"
   ]
  },
  {
   "cell_type": "code",
   "execution_count": 78,
   "id": "498cd91d",
   "metadata": {},
   "outputs": [
    {
     "name": "stdout",
     "output_type": "stream",
     "text": [
      "<music21.note.Note A> 0.0 0.0\n",
      "<music21.note.Note G> 0.0 1.0\n"
     ]
    }
   ],
   "source": [
    "n = note.Note('G4')\n",
    "melody = stream.Part()\n",
    "meas = stream.Measure()\n",
    "meas.append(n)\n",
    "melody.append(meas)\n",
    "accent_downbeat(melody)\n",
    "grace_beginners(melody, pitch.Pitch('C4'))\n",
    "for no in melody[note.Note]:\n",
    "    print(no, no.offset, no.quarterLength)"
   ]
  },
  {
   "cell_type": "markdown",
   "id": "40d3cac6",
   "metadata": {},
   "source": [
    "## Involvement\n",
    "\n",
    "The melody gets thicker...or less so."
   ]
  },
  {
   "cell_type": "code",
   "execution_count": 79,
   "id": "3cd8b83b",
   "metadata": {},
   "outputs": [],
   "source": [
    "def double_note_frequency(melody: stream.Part(), tonic: pitch.Pitch):\n",
    "    '''\n",
    "    given a melody, change each note to have two notes, each with double the frequency\n",
    "    '''\n",
    "    for m in melody[stream.Measure]:\n",
    "        for n in m[note.Note]:\n",
    "            n.quarterLength *= 0.5\n",
    "            n1 = copy.deepcopy(n)\n",
    "            off = n.offset + n.quarterLength\n",
    "            m.insert(off, n1)"
   ]
  },
  {
   "cell_type": "code",
   "execution_count": 80,
   "id": "2272a0a5",
   "metadata": {},
   "outputs": [
    {
     "name": "stdout",
     "output_type": "stream",
     "text": [
      "<music21.note.Note G> 0.0 0.5\n",
      "<music21.note.Note G> 0.5 0.5\n"
     ]
    }
   ],
   "source": [
    "# test double_note_frequency\n",
    "n = note.Note('G4')\n",
    "melody = stream.Part()\n",
    "meas = stream.Measure()\n",
    "meas.append(n)\n",
    "melody.append(meas)\n",
    "\n",
    "double_note_frequency(melody, pitch.Pitch('G4'))\n",
    "for n in melody[note.Note]:\n",
    "    print(n, n.offset, n.quarterLength)"
   ]
  },
  {
   "cell_type": "code",
   "execution_count": 81,
   "id": "71a2c16b",
   "metadata": {},
   "outputs": [],
   "source": [
    "def elevate_repeats(melody: stream.Part(), tonic: pitch.Pitch, offset_mult=4):\n",
    "    '''\n",
    "    given a melody, for every note which starts a measure or a given offset\n",
    "    multiplier (default 4: start of a 4/4 measure), change that note\n",
    "    to have the next note up for the last 1/4 duration.\n",
    "    \n",
    "    Inspired by Country Gardens.\n",
    "    \n",
    "    C(4)-C(4) becomes C(3)-D(1)-C(4); parentheses illustrate durations.\n",
    "    '''\n",
    "    \n",
    "    sc = scale.MajorScale(tonic.name)\n",
    "    for m in melody[stream.Measure]:\n",
    "        for n in m[note.Note]:\n",
    "            if n.offset % offset_mult == 0:\n",
    "                dur = n.quarterLength\n",
    "                n.quarterLength = 0.75 * dur\n",
    "                add_note = note.Note(sc.nextPitch(n.nameWithOctave))\n",
    "                add_note.quarterLength = 0.25 * dur\n",
    "                m.insert(n.offset + 0.75*dur, add_note)"
   ]
  },
  {
   "cell_type": "code",
   "execution_count": 82,
   "id": "56ad4045",
   "metadata": {},
   "outputs": [
    {
     "name": "stdout",
     "output_type": "stream",
     "text": [
      "1.0\n",
      "<music21.note.Note G> 0.0\n",
      "<music21.note.Note A> 0.75\n",
      "<music21.note.Note G> 1.0\n",
      "<music21.note.Note G> 2.0\n",
      "<music21.note.Note G> 3.0\n",
      "<music21.note.Note G> 0.0\n",
      "<music21.note.Note A> 0.75\n"
     ]
    }
   ],
   "source": [
    "melody = stream.Part()\n",
    "meas = stream.Measure()\n",
    "meas.append(note.Note('G4'))\n",
    "meas.append(note.Note('G4'))\n",
    "meas.append(note.Note('G4'))\n",
    "meas.append(note.Note('G4'))\n",
    "meas2 = stream.Measure()\n",
    "meas2.append(note.Note('G4'))\n",
    "\n",
    "melody.append(meas)\n",
    "melody.append(meas2)\n",
    "print(note.Note('G4').quarterLength)\n",
    "melody\n",
    "elevate_repeats(melody, pitch.Pitch('C4'))\n",
    "for no in melody[note.Note]:\n",
    "    print(no, no.offset)"
   ]
  },
  {
   "cell_type": "markdown",
   "id": "905d95ba",
   "metadata": {},
   "source": [
    "## Stacking\n",
    "\n",
    "Keep the same notes, but thicken them."
   ]
  },
  {
   "cell_type": "code",
   "execution_count": 83,
   "id": "dc2923bb",
   "metadata": {},
   "outputs": [],
   "source": [
    "def chord_it(melody: stream.Part(), tonic: pitch.Pitch, is_above=False, offset_mult=4):\n",
    "    '''\n",
    "    given a melody, take the first note of each measure and turn that into a chord\n",
    "    '''\n",
    "    sc = scale.MajorScale(tonic.name)\n",
    "    for m in melody[stream.Measure]:\n",
    "        for n in m[note.Note]:\n",
    "            chord_notes = []\n",
    "            if n.offset % offset_mult == 0:\n",
    "                pitch_nums = [2, 4, 7]\n",
    "                for i in range(3):\n",
    "                    new_note = note.Note(sc.nextPitch(n.nameWithOctave, stepSize=pitch_nums[i]).nameWithOctave)\n",
    "                    new_note.quarterLength = n.quarterLength\n",
    "                    if not is_above:\n",
    "                        new_note.octave -= 1 if new_note.name != n.name else 2\n",
    "                    chord_notes.append(new_note)\n",
    "                new_chord = chord.Chord(chord_notes)\n",
    "                m.insert(n.offset, new_chord)"
   ]
  },
  {
   "cell_type": "code",
   "execution_count": 84,
   "id": "65f8b26a",
   "metadata": {},
   "outputs": [
    {
     "name": "stdout",
     "output_type": "stream",
     "text": [
      "<music21.chord.Chord B3 D4 G3> (<music21.pitch.Pitch B3>, <music21.pitch.Pitch D4>, <music21.pitch.Pitch G3>) 0.0\n",
      "<music21.chord.Chord B3 D4 G3> (<music21.pitch.Pitch B3>, <music21.pitch.Pitch D4>, <music21.pitch.Pitch G3>) 0.0\n"
     ]
    },
    {
     "data": {
      "text/html": [
       "\n",
       "                <div id=\"midiPlayerDiv2052\"></div>\n",
       "                <link rel=\"stylesheet\" href=\"//cuthbertLab.github.io/music21j/css/m21.css\"\n",
       "                    type=\"text/css\" />\n",
       "                \n",
       "                <script>\n",
       "                require.config({\n",
       "                    paths: {'music21': '//cuthbertLab.github.io/music21j/src/music21'}\n",
       "                });\n",
       "                require(['music21'], function() {\n",
       "                               mp = new music21.miditools.MidiPlayer();\n",
       "                               mp.addPlayer(\"#midiPlayerDiv2052\");\n",
       "                               mp.base64Load(\"data:audio/midi;base64,TVRoZAAAAAYAAQACBABNVHJrAAAAFAD/UQMHoSAA/1gEBAIYCIgA/y8ATVRyawAAAH0A/wMAAOAAQIgAkENaAJA7WgCQPloAkDdahgCAQwAAgDsAAIA+AACANwAAkEVaggCARQAAkENaiACAQwAAkENaiACAQwAAkENaiACAQwAAkENaAJA7WgCQPloAkDdahgCAQwAAgDsAAIA+AACANwAAkEVaggCARQCIAP8vAA==\");\n",
       "                        });\n",
       "                </script>"
      ],
      "text/plain": [
       "<IPython.core.display.HTML object>"
      ]
     },
     "metadata": {},
     "output_type": "display_data"
    }
   ],
   "source": [
    "chord_it(melody, pitch.Pitch('C4'))\n",
    "\n",
    "for no in melody[chord.Chord]:\n",
    "    print(no, no.pitches, no.offset)\n",
    "\n",
    "melody.show('midi')"
   ]
  },
  {
   "cell_type": "code",
   "execution_count": 85,
   "id": "c9b585c5",
   "metadata": {},
   "outputs": [
    {
     "data": {
      "text/plain": [
       "6"
      ]
     },
     "execution_count": 85,
     "metadata": {},
     "output_type": "execute_result"
    }
   ],
   "source": [
    "n = note.Note('G6')\n",
    "\n",
    "p = pitch.Pitch('G6')\n",
    "\n",
    "p.octave"
   ]
  },
  {
   "cell_type": "markdown",
   "id": "b02ab9d2",
   "metadata": {},
   "source": [
    "# Scaling the Hierarchy\n",
    "\n",
    "Becuse parts cannot simply be concatenated to each other, we will need a few helper functions."
   ]
  },
  {
   "cell_type": "markdown",
   "id": "fe9259d9",
   "metadata": {},
   "source": [
    "# Testing\n",
    "\n",
    "We will test our function on pieces of different genres and see how they compare."
   ]
  },
  {
   "cell_type": "code",
   "execution_count": 95,
   "id": "b31bdc83",
   "metadata": {},
   "outputs": [
    {
     "name": "stdout",
     "output_type": "stream",
     "text": [
      "<music21.note.Note C#> 0.0\n",
      "<music21.note.Note B> 0.5\n",
      "<music21.note.Note A> 0.0\n",
      "<music21.note.Note B> 1.0\n",
      "<music21.note.Note C#> 2.0\n",
      "<music21.note.Note E> 3.0\n",
      "<music21.note.Note C#> 0.0\n",
      "<music21.note.Note B> 1.0\n",
      "<music21.note.Note A> 2.0\n",
      "<music21.note.Note C#> 3.0\n",
      "<music21.note.Note A> 0.0\n",
      "<music21.note.Note B> 0.5\n",
      "<music21.note.Note G#> 1.0\n",
      "<music21.note.Note F#> 2.0\n",
      "<music21.note.Note A> 3.0\n",
      "<music21.note.Note B> 0.0\n",
      "<music21.note.Note B> 1.0\n",
      "<music21.note.Note F#> 2.0\n",
      "<music21.note.Note E> 3.0\n",
      "<music21.note.Note A> 0.0\n",
      "<music21.note.Note B> 1.0\n",
      "<music21.note.Note C#> 2.0\n",
      "<music21.note.Note C#> 3.0\n",
      "<music21.note.Note A> 0.0\n",
      "<music21.note.Note B> 1.0\n",
      "<music21.note.Note C#> 2.0\n",
      "<music21.note.Note A> 3.0\n",
      "<music21.note.Note G#> 0.0\n",
      "<music21.note.Note F#> 1.0\n",
      "<music21.note.Note G#> 2.0\n",
      "<music21.note.Note F#> 0.0\n",
      "<music21.note.Note F#> 2.0\n",
      "<music21.note.Note F#> 3.0\n",
      "<music21.note.Note F#> 0.0\n",
      "<music21.note.Note F#> 1.0\n",
      "<music21.note.Note E#> 1.5\n",
      "<music21.note.Note F#> 2.0\n",
      "mutated\n",
      "(<music21.pitch.Pitch E4>, <music21.pitch.Pitch G#4>, <music21.pitch.Pitch C#4>) <music21.stream.Measure 0 offset=0.0>\n",
      "(<music21.pitch.Pitch C#4>, <music21.pitch.Pitch E4>, <music21.pitch.Pitch A3>) <music21.stream.Measure 0 offset=0.0>\n",
      "(<music21.pitch.Pitch E4>, <music21.pitch.Pitch G#4>, <music21.pitch.Pitch C#4>) <music21.stream.Measure 0 offset=0.0>\n",
      "(<music21.pitch.Pitch C#4>, <music21.pitch.Pitch E4>, <music21.pitch.Pitch A3>) <music21.stream.Measure 0 offset=0.0>\n",
      "(<music21.pitch.Pitch D4>, <music21.pitch.Pitch F#4>, <music21.pitch.Pitch B3>) <music21.stream.Measure 0 offset=0.0>\n",
      "(<music21.pitch.Pitch C#4>, <music21.pitch.Pitch E4>, <music21.pitch.Pitch A3>) <music21.stream.Measure 0 offset=0.0>\n",
      "(<music21.pitch.Pitch C#4>, <music21.pitch.Pitch E4>, <music21.pitch.Pitch A3>) <music21.stream.Measure 0 offset=0.0>\n",
      "(<music21.pitch.Pitch B3>, <music21.pitch.Pitch D4>, <music21.pitch.Pitch G#3>) <music21.stream.Measure 0 offset=0.0>\n",
      "(<music21.pitch.Pitch A3>, <music21.pitch.Pitch C#4>, <music21.pitch.Pitch F#3>) <music21.stream.Measure 0 offset=0.0>\n",
      "(<music21.pitch.Pitch A3>, <music21.pitch.Pitch C#4>, <music21.pitch.Pitch F#3>) <music21.stream.Measure 0 offset=0.0>\n",
      "(<music21.pitch.Pitch E4>, <music21.pitch.Pitch G#4>, <music21.pitch.Pitch C#4>) <music21.stream.Measure 1 offset=1.0>\n",
      "(<music21.pitch.Pitch C#4>, <music21.pitch.Pitch E4>, <music21.pitch.Pitch A3>) <music21.stream.Measure 1 offset=1.0>\n",
      "(<music21.pitch.Pitch E4>, <music21.pitch.Pitch G#4>, <music21.pitch.Pitch C#4>) <music21.stream.Measure 1 offset=1.0>\n",
      "(<music21.pitch.Pitch C#4>, <music21.pitch.Pitch E4>, <music21.pitch.Pitch A3>) <music21.stream.Measure 1 offset=1.0>\n",
      "(<music21.pitch.Pitch D4>, <music21.pitch.Pitch F#4>, <music21.pitch.Pitch B3>) <music21.stream.Measure 1 offset=1.0>\n",
      "(<music21.pitch.Pitch C#4>, <music21.pitch.Pitch E4>, <music21.pitch.Pitch A3>) <music21.stream.Measure 1 offset=1.0>\n",
      "(<music21.pitch.Pitch C#4>, <music21.pitch.Pitch E4>, <music21.pitch.Pitch A3>) <music21.stream.Measure 1 offset=1.0>\n",
      "(<music21.pitch.Pitch B3>, <music21.pitch.Pitch D4>, <music21.pitch.Pitch G#3>) <music21.stream.Measure 1 offset=1.0>\n",
      "(<music21.pitch.Pitch A3>, <music21.pitch.Pitch C#4>, <music21.pitch.Pitch F#3>) <music21.stream.Measure 1 offset=1.0>\n",
      "(<music21.pitch.Pitch A3>, <music21.pitch.Pitch C#4>, <music21.pitch.Pitch F#3>) <music21.stream.Measure 1 offset=1.0>\n",
      "(<music21.pitch.Pitch E4>, <music21.pitch.Pitch G#4>, <music21.pitch.Pitch C#4>) <music21.stream.Measure 2 offset=5.0>\n",
      "(<music21.pitch.Pitch C#4>, <music21.pitch.Pitch E4>, <music21.pitch.Pitch A3>) <music21.stream.Measure 2 offset=5.0>\n",
      "(<music21.pitch.Pitch E4>, <music21.pitch.Pitch G#4>, <music21.pitch.Pitch C#4>) <music21.stream.Measure 2 offset=5.0>\n",
      "(<music21.pitch.Pitch C#4>, <music21.pitch.Pitch E4>, <music21.pitch.Pitch A3>) <music21.stream.Measure 2 offset=5.0>\n",
      "(<music21.pitch.Pitch D4>, <music21.pitch.Pitch F#4>, <music21.pitch.Pitch B3>) <music21.stream.Measure 2 offset=5.0>\n",
      "(<music21.pitch.Pitch C#4>, <music21.pitch.Pitch E4>, <music21.pitch.Pitch A3>) <music21.stream.Measure 2 offset=5.0>\n",
      "(<music21.pitch.Pitch C#4>, <music21.pitch.Pitch E4>, <music21.pitch.Pitch A3>) <music21.stream.Measure 2 offset=5.0>\n",
      "(<music21.pitch.Pitch B3>, <music21.pitch.Pitch D4>, <music21.pitch.Pitch G#3>) <music21.stream.Measure 2 offset=5.0>\n",
      "(<music21.pitch.Pitch A3>, <music21.pitch.Pitch C#4>, <music21.pitch.Pitch F#3>) <music21.stream.Measure 2 offset=5.0>\n",
      "(<music21.pitch.Pitch A3>, <music21.pitch.Pitch C#4>, <music21.pitch.Pitch F#3>) <music21.stream.Measure 2 offset=5.0>\n",
      "(<music21.pitch.Pitch E4>, <music21.pitch.Pitch G#4>, <music21.pitch.Pitch C#4>) <music21.stream.Measure 3 offset=9.0>\n",
      "(<music21.pitch.Pitch C#4>, <music21.pitch.Pitch E4>, <music21.pitch.Pitch A3>) <music21.stream.Measure 3 offset=9.0>\n",
      "(<music21.pitch.Pitch E4>, <music21.pitch.Pitch G#4>, <music21.pitch.Pitch C#4>) <music21.stream.Measure 3 offset=9.0>\n",
      "(<music21.pitch.Pitch C#4>, <music21.pitch.Pitch E4>, <music21.pitch.Pitch A3>) <music21.stream.Measure 3 offset=9.0>\n",
      "(<music21.pitch.Pitch D4>, <music21.pitch.Pitch F#4>, <music21.pitch.Pitch B3>) <music21.stream.Measure 3 offset=9.0>\n",
      "(<music21.pitch.Pitch C#4>, <music21.pitch.Pitch E4>, <music21.pitch.Pitch A3>) <music21.stream.Measure 3 offset=9.0>\n",
      "(<music21.pitch.Pitch C#4>, <music21.pitch.Pitch E4>, <music21.pitch.Pitch A3>) <music21.stream.Measure 3 offset=9.0>\n",
      "(<music21.pitch.Pitch B3>, <music21.pitch.Pitch D4>, <music21.pitch.Pitch G#3>) <music21.stream.Measure 3 offset=9.0>\n",
      "(<music21.pitch.Pitch A3>, <music21.pitch.Pitch C#4>, <music21.pitch.Pitch F#3>) <music21.stream.Measure 3 offset=9.0>\n",
      "(<music21.pitch.Pitch A3>, <music21.pitch.Pitch C#4>, <music21.pitch.Pitch F#3>) <music21.stream.Measure 3 offset=9.0>\n",
      "(<music21.pitch.Pitch E4>, <music21.pitch.Pitch G#4>, <music21.pitch.Pitch C#4>) <music21.stream.Measure 4 offset=13.0>\n",
      "(<music21.pitch.Pitch C#4>, <music21.pitch.Pitch E4>, <music21.pitch.Pitch A3>) <music21.stream.Measure 4 offset=13.0>\n",
      "(<music21.pitch.Pitch E4>, <music21.pitch.Pitch G#4>, <music21.pitch.Pitch C#4>) <music21.stream.Measure 4 offset=13.0>\n",
      "(<music21.pitch.Pitch C#4>, <music21.pitch.Pitch E4>, <music21.pitch.Pitch A3>) <music21.stream.Measure 4 offset=13.0>\n",
      "(<music21.pitch.Pitch D4>, <music21.pitch.Pitch F#4>, <music21.pitch.Pitch B3>) <music21.stream.Measure 4 offset=13.0>\n",
      "(<music21.pitch.Pitch C#4>, <music21.pitch.Pitch E4>, <music21.pitch.Pitch A3>) <music21.stream.Measure 4 offset=13.0>\n",
      "(<music21.pitch.Pitch C#4>, <music21.pitch.Pitch E4>, <music21.pitch.Pitch A3>) <music21.stream.Measure 4 offset=13.0>\n",
      "(<music21.pitch.Pitch B3>, <music21.pitch.Pitch D4>, <music21.pitch.Pitch G#3>) <music21.stream.Measure 4 offset=13.0>\n",
      "(<music21.pitch.Pitch A3>, <music21.pitch.Pitch C#4>, <music21.pitch.Pitch F#3>) <music21.stream.Measure 4 offset=13.0>\n",
      "(<music21.pitch.Pitch A3>, <music21.pitch.Pitch C#4>, <music21.pitch.Pitch F#3>) <music21.stream.Measure 4 offset=13.0>\n",
      "(<music21.pitch.Pitch E4>, <music21.pitch.Pitch G#4>, <music21.pitch.Pitch C#4>) <music21.stream.Measure 5 offset=17.0>\n",
      "(<music21.pitch.Pitch C#4>, <music21.pitch.Pitch E4>, <music21.pitch.Pitch A3>) <music21.stream.Measure 5 offset=17.0>\n",
      "(<music21.pitch.Pitch E4>, <music21.pitch.Pitch G#4>, <music21.pitch.Pitch C#4>) <music21.stream.Measure 5 offset=17.0>\n",
      "(<music21.pitch.Pitch C#4>, <music21.pitch.Pitch E4>, <music21.pitch.Pitch A3>) <music21.stream.Measure 5 offset=17.0>\n",
      "(<music21.pitch.Pitch D4>, <music21.pitch.Pitch F#4>, <music21.pitch.Pitch B3>) <music21.stream.Measure 5 offset=17.0>\n",
      "(<music21.pitch.Pitch C#4>, <music21.pitch.Pitch E4>, <music21.pitch.Pitch A3>) <music21.stream.Measure 5 offset=17.0>\n",
      "(<music21.pitch.Pitch C#4>, <music21.pitch.Pitch E4>, <music21.pitch.Pitch A3>) <music21.stream.Measure 5 offset=17.0>\n",
      "(<music21.pitch.Pitch B3>, <music21.pitch.Pitch D4>, <music21.pitch.Pitch G#3>) <music21.stream.Measure 5 offset=17.0>\n",
      "(<music21.pitch.Pitch A3>, <music21.pitch.Pitch C#4>, <music21.pitch.Pitch F#3>) <music21.stream.Measure 5 offset=17.0>\n",
      "(<music21.pitch.Pitch A3>, <music21.pitch.Pitch C#4>, <music21.pitch.Pitch F#3>) <music21.stream.Measure 5 offset=17.0>\n",
      "(<music21.pitch.Pitch E4>, <music21.pitch.Pitch G#4>, <music21.pitch.Pitch C#4>) <music21.stream.Measure 6 offset=21.0>\n",
      "(<music21.pitch.Pitch C#4>, <music21.pitch.Pitch E4>, <music21.pitch.Pitch A3>) <music21.stream.Measure 6 offset=21.0>\n",
      "(<music21.pitch.Pitch E4>, <music21.pitch.Pitch G#4>, <music21.pitch.Pitch C#4>) <music21.stream.Measure 6 offset=21.0>\n",
      "(<music21.pitch.Pitch C#4>, <music21.pitch.Pitch E4>, <music21.pitch.Pitch A3>) <music21.stream.Measure 6 offset=21.0>\n",
      "(<music21.pitch.Pitch D4>, <music21.pitch.Pitch F#4>, <music21.pitch.Pitch B3>) <music21.stream.Measure 6 offset=21.0>\n",
      "(<music21.pitch.Pitch C#4>, <music21.pitch.Pitch E4>, <music21.pitch.Pitch A3>) <music21.stream.Measure 6 offset=21.0>\n",
      "(<music21.pitch.Pitch C#4>, <music21.pitch.Pitch E4>, <music21.pitch.Pitch A3>) <music21.stream.Measure 6 offset=21.0>\n",
      "(<music21.pitch.Pitch B3>, <music21.pitch.Pitch D4>, <music21.pitch.Pitch G#3>) <music21.stream.Measure 6 offset=21.0>\n",
      "(<music21.pitch.Pitch A3>, <music21.pitch.Pitch C#4>, <music21.pitch.Pitch F#3>) <music21.stream.Measure 6 offset=21.0>\n",
      "(<music21.pitch.Pitch A3>, <music21.pitch.Pitch C#4>, <music21.pitch.Pitch F#3>) <music21.stream.Measure 6 offset=21.0>\n",
      "(<music21.pitch.Pitch E4>, <music21.pitch.Pitch G#4>, <music21.pitch.Pitch C#4>) <music21.stream.Measure 7 offset=25.0>\n",
      "(<music21.pitch.Pitch C#4>, <music21.pitch.Pitch E4>, <music21.pitch.Pitch A3>) <music21.stream.Measure 7 offset=25.0>\n",
      "(<music21.pitch.Pitch E4>, <music21.pitch.Pitch G#4>, <music21.pitch.Pitch C#4>) <music21.stream.Measure 7 offset=25.0>\n",
      "(<music21.pitch.Pitch C#4>, <music21.pitch.Pitch E4>, <music21.pitch.Pitch A3>) <music21.stream.Measure 7 offset=25.0>\n",
      "(<music21.pitch.Pitch D4>, <music21.pitch.Pitch F#4>, <music21.pitch.Pitch B3>) <music21.stream.Measure 7 offset=25.0>\n",
      "(<music21.pitch.Pitch C#4>, <music21.pitch.Pitch E4>, <music21.pitch.Pitch A3>) <music21.stream.Measure 7 offset=25.0>\n",
      "(<music21.pitch.Pitch C#4>, <music21.pitch.Pitch E4>, <music21.pitch.Pitch A3>) <music21.stream.Measure 7 offset=25.0>\n",
      "(<music21.pitch.Pitch B3>, <music21.pitch.Pitch D4>, <music21.pitch.Pitch G#3>) <music21.stream.Measure 7 offset=25.0>\n",
      "(<music21.pitch.Pitch A3>, <music21.pitch.Pitch C#4>, <music21.pitch.Pitch F#3>) <music21.stream.Measure 7 offset=25.0>\n",
      "(<music21.pitch.Pitch A3>, <music21.pitch.Pitch C#4>, <music21.pitch.Pitch F#3>) <music21.stream.Measure 7 offset=25.0>\n",
      "(<music21.pitch.Pitch E4>, <music21.pitch.Pitch G#4>, <music21.pitch.Pitch C#4>) <music21.stream.Measure 8 offset=29.0>\n",
      "(<music21.pitch.Pitch C#4>, <music21.pitch.Pitch E4>, <music21.pitch.Pitch A3>) <music21.stream.Measure 8 offset=29.0>\n",
      "(<music21.pitch.Pitch E4>, <music21.pitch.Pitch G#4>, <music21.pitch.Pitch C#4>) <music21.stream.Measure 8 offset=29.0>\n",
      "(<music21.pitch.Pitch C#4>, <music21.pitch.Pitch E4>, <music21.pitch.Pitch A3>) <music21.stream.Measure 8 offset=29.0>\n",
      "(<music21.pitch.Pitch D4>, <music21.pitch.Pitch F#4>, <music21.pitch.Pitch B3>) <music21.stream.Measure 8 offset=29.0>\n",
      "(<music21.pitch.Pitch C#4>, <music21.pitch.Pitch E4>, <music21.pitch.Pitch A3>) <music21.stream.Measure 8 offset=29.0>\n",
      "(<music21.pitch.Pitch C#4>, <music21.pitch.Pitch E4>, <music21.pitch.Pitch A3>) <music21.stream.Measure 8 offset=29.0>\n",
      "(<music21.pitch.Pitch B3>, <music21.pitch.Pitch D4>, <music21.pitch.Pitch G#3>) <music21.stream.Measure 8 offset=29.0>\n",
      "(<music21.pitch.Pitch A3>, <music21.pitch.Pitch C#4>, <music21.pitch.Pitch F#3>) <music21.stream.Measure 8 offset=29.0>\n",
      "(<music21.pitch.Pitch A3>, <music21.pitch.Pitch C#4>, <music21.pitch.Pitch F#3>) <music21.stream.Measure 8 offset=29.0>\n",
      "(<music21.pitch.Pitch E4>, <music21.pitch.Pitch G#4>, <music21.pitch.Pitch C#4>) <music21.stream.Measure 9 offset=33.0>\n",
      "(<music21.pitch.Pitch C#4>, <music21.pitch.Pitch E4>, <music21.pitch.Pitch A3>) <music21.stream.Measure 9 offset=33.0>\n",
      "(<music21.pitch.Pitch E4>, <music21.pitch.Pitch G#4>, <music21.pitch.Pitch C#4>) <music21.stream.Measure 9 offset=33.0>\n",
      "(<music21.pitch.Pitch C#4>, <music21.pitch.Pitch E4>, <music21.pitch.Pitch A3>) <music21.stream.Measure 9 offset=33.0>\n",
      "(<music21.pitch.Pitch D4>, <music21.pitch.Pitch F#4>, <music21.pitch.Pitch B3>) <music21.stream.Measure 9 offset=33.0>\n",
      "(<music21.pitch.Pitch C#4>, <music21.pitch.Pitch E4>, <music21.pitch.Pitch A3>) <music21.stream.Measure 9 offset=33.0>\n",
      "(<music21.pitch.Pitch C#4>, <music21.pitch.Pitch E4>, <music21.pitch.Pitch A3>) <music21.stream.Measure 9 offset=33.0>\n",
      "(<music21.pitch.Pitch B3>, <music21.pitch.Pitch D4>, <music21.pitch.Pitch G#3>) <music21.stream.Measure 9 offset=33.0>\n",
      "(<music21.pitch.Pitch A3>, <music21.pitch.Pitch C#4>, <music21.pitch.Pitch F#3>) <music21.stream.Measure 9 offset=33.0>\n",
      "(<music21.pitch.Pitch A3>, <music21.pitch.Pitch C#4>, <music21.pitch.Pitch F#3>) <music21.stream.Measure 9 offset=33.0>\n"
     ]
    }
   ],
   "source": [
    "# primary test: Bach!\n",
    "\n",
    "bach = corpus.parse('bwv66.6')\n",
    "\n",
    "bach_melody = bach[1]\n",
    "\n",
    "tonic = pitch.Pitch('A4')\n",
    "\n",
    "for n in bach_melody[note.Note]:\n",
    "    print(n, n.offset)\n",
    "    \n",
    "mutate_melody(bach_melody, tonic)\n",
    "print('mutated')\n",
    "\n",
    "for m in bach_melody[stream.Measure]:\n",
    "    for n in bach_melody[chord.Chord]:\n",
    "        print(n.pitches, m)"
   ]
  },
  {
   "cell_type": "code",
   "execution_count": 8,
   "id": "61072832",
   "metadata": {},
   "outputs": [
    {
     "data": {
      "text/plain": [
       "['_DOC_ATTR',\n",
       " '_DOC_ORDER',\n",
       " '__annotations__',\n",
       " '__class__',\n",
       " '__deepcopy__',\n",
       " '__delattr__',\n",
       " '__dict__',\n",
       " '__dir__',\n",
       " '__doc__',\n",
       " '__eq__',\n",
       " '__format__',\n",
       " '__ge__',\n",
       " '__getattribute__',\n",
       " '__getstate__',\n",
       " '__gt__',\n",
       " '__hash__',\n",
       " '__init__',\n",
       " '__init_subclass__',\n",
       " '__le__',\n",
       " '__lt__',\n",
       " '__module__',\n",
       " '__ne__',\n",
       " '__new__',\n",
       " '__reduce__',\n",
       " '__reduce_ex__',\n",
       " '__repr__',\n",
       " '__setattr__',\n",
       " '__setstate__',\n",
       " '__sizeof__',\n",
       " '__slots__',\n",
       " '__str__',\n",
       " '__subclasshook__',\n",
       " '__weakref__',\n",
       " '_classSetCacheDict',\n",
       " '_classTupleCacheDict',\n",
       " '_deepcopySubclassable',\n",
       " '_getActiveSite',\n",
       " '_getLyric',\n",
       " '_getMeasureOffset',\n",
       " '_getName',\n",
       " '_getNameWithOctave',\n",
       " '_getOctave',\n",
       " '_getPriority',\n",
       " '_getSeconds',\n",
       " '_getStemDirection',\n",
       " '_getStoredInstrument',\n",
       " '_getTimeSignatureForBeat',\n",
       " '_getVolume',\n",
       " '_reprInternal',\n",
       " '_reprText',\n",
       " '_reprTextLine',\n",
       " '_setActiveSite',\n",
       " '_setLyric',\n",
       " '_setName',\n",
       " '_setNameWithOctave',\n",
       " '_setOctave',\n",
       " '_setPriority',\n",
       " '_setSeconds',\n",
       " '_setStemDirection',\n",
       " '_setStoredInstrument',\n",
       " '_setVolume',\n",
       " '_styleClass',\n",
       " 'activeSite',\n",
       " 'addLyric',\n",
       " 'augmentOrDiminish',\n",
       " 'beat',\n",
       " 'beatDuration',\n",
       " 'beatStr',\n",
       " 'beatStrength',\n",
       " 'classSet',\n",
       " 'classSortOrder',\n",
       " 'classes',\n",
       " 'clearCache',\n",
       " 'containerHierarchy',\n",
       " 'contextSites',\n",
       " 'derivation',\n",
       " 'duration',\n",
       " 'editorial',\n",
       " 'fullName',\n",
       " 'getAllContextsByClass',\n",
       " 'getContextByClass',\n",
       " 'getGrace',\n",
       " 'getInstrument',\n",
       " 'getOffsetBySite',\n",
       " 'getOffsetInHierarchy',\n",
       " 'getSpannerSites',\n",
       " 'hasEditorialInformation',\n",
       " 'hasStyleInformation',\n",
       " 'hasVolumeInformation',\n",
       " 'id',\n",
       " 'informSites',\n",
       " 'insertLyric',\n",
       " 'isChord',\n",
       " 'isClassOrSubclass',\n",
       " 'isNote',\n",
       " 'isRest',\n",
       " 'isStream',\n",
       " 'lyric',\n",
       " 'measureNumber',\n",
       " 'mergeAttributes',\n",
       " 'name',\n",
       " 'nameWithOctave',\n",
       " 'next',\n",
       " 'notehead',\n",
       " 'noteheadFill',\n",
       " 'noteheadParenthesis',\n",
       " 'octave',\n",
       " 'offset',\n",
       " 'pitchChanged',\n",
       " 'pitches',\n",
       " 'previous',\n",
       " 'priority',\n",
       " 'purgeLocations',\n",
       " 'purgeOrphans',\n",
       " 'quarterLength',\n",
       " 'seconds',\n",
       " 'setOffsetBySite',\n",
       " 'show',\n",
       " 'sortTuple',\n",
       " 'splitAtDurations',\n",
       " 'splitAtQuarterLength',\n",
       " 'splitByQuarterLengths',\n",
       " 'stemDirection',\n",
       " 'step',\n",
       " 'storedInstrument',\n",
       " 'style',\n",
       " 'tie',\n",
       " 'transpose',\n",
       " 'volume',\n",
       " 'write']"
      ]
     },
     "execution_count": 8,
     "metadata": {},
     "output_type": "execute_result"
    }
   ],
   "source": [
    "dir(note.Note)"
   ]
  }
 ],
 "metadata": {
  "kernelspec": {
   "display_name": "Python 3 (ipykernel)",
   "language": "python",
   "name": "python3"
  },
  "language_info": {
   "codemirror_mode": {
    "name": "ipython",
    "version": 3
   },
   "file_extension": ".py",
   "mimetype": "text/x-python",
   "name": "python",
   "nbconvert_exporter": "python",
   "pygments_lexer": "ipython3",
   "version": "3.9.14"
  }
 },
 "nbformat": 4,
 "nbformat_minor": 5
}
